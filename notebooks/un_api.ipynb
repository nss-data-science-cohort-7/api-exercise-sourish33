{
 "cells": [
  {
   "cell_type": "code",
   "execution_count": 1,
   "metadata": {},
   "outputs": [],
   "source": [
    "import requests\n",
    "import pandas as pd\n",
    "import matplotlib.pyplot as plt\n",
    "# For async requests\n",
    "import aiohttp\n",
    "import asyncio\n",
    "import nest_asyncio\n"
   ]
  },
  {
   "cell_type": "code",
   "execution_count": 2,
   "metadata": {},
   "outputs": [],
   "source": [
    "def get_all_data(endpoint, params = {\"format\": \"json\"}):\n",
    "\n",
    "    \"\"\"\n",
    "    Fetches and retrieves data from a specified API endpoint and returns it as a Pandas DataFrame.\n",
    "\n",
    "    Args:\n",
    "        endpoint (str): The URL of the API endpoint to retrieve data from.\n",
    "        params (dict, optional): Parameters to include in the API request. Defaults to {\"format\": \"json\"}.\n",
    "\n",
    "    Returns:\n",
    "        pd.DataFrame: A Pandas DataFrame containing the retrieved data.\n",
    "\n",
    "    Raises:\n",
    "        requests.exceptions.RequestException: If there is an issue with the HTTP request.\n",
    "\n",
    "    Note:\n",
    "        This function sends an initial request to the specified API endpoint and checks if there is more data available\n",
    "        than can be retrieved in a single response. If so, it adjusts the 'per_page' parameter to retrieve all available\n",
    "        data and sends another request to fetch the remaining data. The data is then converted into a Pandas DataFrame.\n",
    "    \"\"\"\n",
    "\n",
    "    response = requests.get(endpoint, params = params)\n",
    "    [metadata, data] = response.json()\n",
    "    if int(metadata[\"total\"]) > int(metadata[\"per_page\"]):\n",
    "        params[\"per_page\"] = metadata[\"total\"]\n",
    "        response = requests.get(endpoint, params = params)\n",
    "        [metadata, data] = response.json()\n",
    "    return pd.DataFrame(data)\n"
   ]
  },
  {
   "cell_type": "code",
   "execution_count": 3,
   "metadata": {},
   "outputs": [
    {
     "data": {
      "text/plain": [
       "(16758, 3)"
      ]
     },
     "execution_count": 3,
     "metadata": {},
     "output_type": "execute_result"
    }
   ],
   "source": [
    "endpoint = \"https://api.worldbank.org/v2/country/all/indicator/NY.GDP.PCAP.PP.KD\"\n",
    "\n",
    "gdp_percapita_df = get_all_data(endpoint)\n",
    "gdp_percapita_df[\"Country_Name\"] = gdp_percapita_df[\"country\"].apply(lambda x: x[\"value\"])\n",
    "gdp_percapita_df = gdp_percapita_df.rename(columns={\"value\": \"GDP_Per_Capita\"})\n",
    "cols_to_drop = [x for x in gdp_percapita_df.columns if x not in [\"Country_Name\", \"date\", 'GDP_Per_Capita']]\n",
    "gdp_percapita_df = gdp_percapita_df.drop(columns=cols_to_drop)\n",
    "gdp_percapita_df.shape"
   ]
  },
  {
   "cell_type": "code",
   "execution_count": null,
   "metadata": {},
   "outputs": [],
   "source": []
  },
  {
   "cell_type": "code",
   "execution_count": 4,
   "metadata": {},
   "outputs": [
    {
     "data": {
      "text/plain": [
       "(16758, 3)"
      ]
     },
     "execution_count": 4,
     "metadata": {},
     "output_type": "execute_result"
    }
   ],
   "source": [
    "endpoint = \"https://api.worldbank.org/v2/country/all/indicator/SP.DYN.LE00.IN\"\n",
    "\n",
    "gdp_le_df = get_all_data(endpoint)\n",
    "gdp_le_df[\"Country_Name\"] = gdp_le_df[\"country\"].apply(lambda x: x[\"value\"])\n",
    "gdp_le_df = gdp_le_df.rename(columns={\"value\": \"Life_Expectancy\"})\n",
    "cols_to_drop = [x for x in gdp_le_df.columns if x not in [\"Country_Name\", \"date\", 'Life_Expectancy']]\n",
    "gdp_le_df = gdp_le_df.drop(columns=cols_to_drop)\n",
    "gdp_le_df.shape\n"
   ]
  },
  {
   "cell_type": "code",
   "execution_count": 5,
   "metadata": {},
   "outputs": [],
   "source": [
    "merged_df = pd.merge(gdp_percapita_df, gdp_le_df, on=[\"Country_Name\", \"date\"] )\n",
    "merged_df = merged_df.dropna()"
   ]
  },
  {
   "cell_type": "code",
   "execution_count": 6,
   "metadata": {},
   "outputs": [],
   "source": [
    "endpoint = \"http://api.worldbank.org/v2/country\"\n",
    "\n",
    "countries_df = get_all_data(endpoint)\n",
    "countries_df = countries_df[countries_df[\"capitalCity\"].astype(bool)]\n",
    "countries_df = countries_df[[ 'iso2Code', 'name', 'capitalCity', 'longitude', 'latitude']]\n",
    "countries_df = countries_df.rename(columns={\"name\": \"Country_Name\"})"
   ]
  },
  {
   "cell_type": "code",
   "execution_count": 7,
   "metadata": {},
   "outputs": [
    {
     "data": {
      "text/html": [
       "<div>\n",
       "<style scoped>\n",
       "    .dataframe tbody tr th:only-of-type {\n",
       "        vertical-align: middle;\n",
       "    }\n",
       "\n",
       "    .dataframe tbody tr th {\n",
       "        vertical-align: top;\n",
       "    }\n",
       "\n",
       "    .dataframe thead th {\n",
       "        text-align: right;\n",
       "    }\n",
       "</style>\n",
       "<table border=\"1\" class=\"dataframe\">\n",
       "  <thead>\n",
       "    <tr style=\"text-align: right;\">\n",
       "      <th></th>\n",
       "      <th>iso2Code</th>\n",
       "      <th>Country_Name</th>\n",
       "      <th>capitalCity</th>\n",
       "      <th>longitude</th>\n",
       "      <th>latitude</th>\n",
       "      <th>date</th>\n",
       "      <th>GDP_Per_Capita</th>\n",
       "      <th>Life_Expectancy</th>\n",
       "    </tr>\n",
       "  </thead>\n",
       "  <tbody>\n",
       "    <tr>\n",
       "      <th>0</th>\n",
       "      <td>AW</td>\n",
       "      <td>Aruba</td>\n",
       "      <td>Oranjestad</td>\n",
       "      <td>-70.0167</td>\n",
       "      <td>12.5167</td>\n",
       "      <td>2021</td>\n",
       "      <td>38866.333486</td>\n",
       "      <td>74.626</td>\n",
       "    </tr>\n",
       "    <tr>\n",
       "      <th>1</th>\n",
       "      <td>AW</td>\n",
       "      <td>Aruba</td>\n",
       "      <td>Oranjestad</td>\n",
       "      <td>-70.0167</td>\n",
       "      <td>12.5167</td>\n",
       "      <td>2020</td>\n",
       "      <td>33155.243239</td>\n",
       "      <td>75.723</td>\n",
       "    </tr>\n",
       "    <tr>\n",
       "      <th>2</th>\n",
       "      <td>AW</td>\n",
       "      <td>Aruba</td>\n",
       "      <td>Oranjestad</td>\n",
       "      <td>-70.0167</td>\n",
       "      <td>12.5167</td>\n",
       "      <td>2019</td>\n",
       "      <td>40780.516485</td>\n",
       "      <td>76.248</td>\n",
       "    </tr>\n",
       "    <tr>\n",
       "      <th>3</th>\n",
       "      <td>AW</td>\n",
       "      <td>Aruba</td>\n",
       "      <td>Oranjestad</td>\n",
       "      <td>-70.0167</td>\n",
       "      <td>12.5167</td>\n",
       "      <td>2018</td>\n",
       "      <td>40706.749216</td>\n",
       "      <td>76.072</td>\n",
       "    </tr>\n",
       "    <tr>\n",
       "      <th>4</th>\n",
       "      <td>AW</td>\n",
       "      <td>Aruba</td>\n",
       "      <td>Oranjestad</td>\n",
       "      <td>-70.0167</td>\n",
       "      <td>12.5167</td>\n",
       "      <td>2017</td>\n",
       "      <td>38865.188195</td>\n",
       "      <td>75.903</td>\n",
       "    </tr>\n",
       "  </tbody>\n",
       "</table>\n",
       "</div>"
      ],
      "text/plain": [
       "  iso2Code Country_Name capitalCity longitude latitude  date  GDP_Per_Capita  \\\n",
       "0       AW        Aruba  Oranjestad  -70.0167  12.5167  2021    38866.333486   \n",
       "1       AW        Aruba  Oranjestad  -70.0167  12.5167  2020    33155.243239   \n",
       "2       AW        Aruba  Oranjestad  -70.0167  12.5167  2019    40780.516485   \n",
       "3       AW        Aruba  Oranjestad  -70.0167  12.5167  2018    40706.749216   \n",
       "4       AW        Aruba  Oranjestad  -70.0167  12.5167  2017    38865.188195   \n",
       "\n",
       "   Life_Expectancy  \n",
       "0           74.626  \n",
       "1           75.723  \n",
       "2           76.248  \n",
       "3           76.072  \n",
       "4           75.903  "
      ]
     },
     "execution_count": 7,
     "metadata": {},
     "output_type": "execute_result"
    }
   ],
   "source": [
    "triple_merged_df = pd.merge(countries_df, merged_df, on=[\"Country_Name\"], how=\"inner\")\n",
    "triple_merged_df.head()"
   ]
  },
  {
   "cell_type": "code",
   "execution_count": 8,
   "metadata": {},
   "outputs": [],
   "source": [
    "#Only US\n",
    "endpoint = \"http://api.worldbank.org/v2/country/us/indicator/SP.POP.TOTL\"\n",
    "df = get_all_data(endpoint)"
   ]
  },
  {
   "cell_type": "code",
   "execution_count": 9,
   "metadata": {},
   "outputs": [
    {
     "data": {
      "text/html": [
       "<div>\n",
       "<style scoped>\n",
       "    .dataframe tbody tr th:only-of-type {\n",
       "        vertical-align: middle;\n",
       "    }\n",
       "\n",
       "    .dataframe tbody tr th {\n",
       "        vertical-align: top;\n",
       "    }\n",
       "\n",
       "    .dataframe thead th {\n",
       "        text-align: right;\n",
       "    }\n",
       "</style>\n",
       "<table border=\"1\" class=\"dataframe\">\n",
       "  <thead>\n",
       "    <tr style=\"text-align: right;\">\n",
       "      <th></th>\n",
       "      <th>indicator</th>\n",
       "      <th>country</th>\n",
       "      <th>countryiso3code</th>\n",
       "      <th>date</th>\n",
       "      <th>value</th>\n",
       "      <th>unit</th>\n",
       "      <th>obs_status</th>\n",
       "      <th>decimal</th>\n",
       "    </tr>\n",
       "  </thead>\n",
       "  <tbody>\n",
       "    <tr>\n",
       "      <th>0</th>\n",
       "      <td>{'id': 'SP.POP.TOTL', 'value': 'Population, to...</td>\n",
       "      <td>{'id': 'US', 'value': 'United States'}</td>\n",
       "      <td>USA</td>\n",
       "      <td>2021</td>\n",
       "      <td>332031554</td>\n",
       "      <td></td>\n",
       "      <td></td>\n",
       "      <td>0</td>\n",
       "    </tr>\n",
       "  </tbody>\n",
       "</table>\n",
       "</div>"
      ],
      "text/plain": [
       "                                           indicator  \\\n",
       "0  {'id': 'SP.POP.TOTL', 'value': 'Population, to...   \n",
       "\n",
       "                                  country countryiso3code  date      value  \\\n",
       "0  {'id': 'US', 'value': 'United States'}             USA  2021  332031554   \n",
       "\n",
       "  unit obs_status  decimal  \n",
       "0                        0  "
      ]
     },
     "execution_count": 9,
     "metadata": {},
     "output_type": "execute_result"
    }
   ],
   "source": [
    "#Only US 2021\n",
    "endpoint = \"http://api.worldbank.org/v2/country/us/indicator/SP.POP.TOTL\"\n",
    "params = {\n",
    "    'format': \"json\",\n",
    "    \"date\":2021\n",
    "}\n",
    "\n",
    "df = get_all_data(endpoint, params=params)\n",
    "df"
   ]
  },
  {
   "cell_type": "code",
   "execution_count": 10,
   "metadata": {},
   "outputs": [
    {
     "data": {
      "text/plain": [
       "(22, 8)"
      ]
     },
     "execution_count": 10,
     "metadata": {},
     "output_type": "execute_result"
    }
   ],
   "source": [
    "#Only US 2000:2021\n",
    "endpoint = \"http://api.worldbank.org/v2/country/us/indicator/SP.POP.TOTL\"\n",
    "params = {\n",
    "    'format': \"json\",\n",
    "    \"date\":\"2000:2021\"\n",
    "}\n",
    "df = get_all_data(endpoint, params=params)\n",
    "df.shape"
   ]
  },
  {
   "cell_type": "code",
   "execution_count": 11,
   "metadata": {},
   "outputs": [
    {
     "data": {
      "text/plain": [
       "(44, 8)"
      ]
     },
     "execution_count": 11,
     "metadata": {},
     "output_type": "execute_result"
    }
   ],
   "source": [
    "#Only US and Canada 2000:2021\n",
    "endpoint = \"http://api.worldbank.org/v2/country/us;ca/indicator/SP.POP.TOTL\"\n",
    "params = {\n",
    "    'format': \"json\",\n",
    "    \"date\":\"2000:2021\"\n",
    "}\n",
    "df = get_all_data(endpoint, params=params)\n",
    "df.shape"
   ]
  },
  {
   "cell_type": "code",
   "execution_count": 12,
   "metadata": {},
   "outputs": [
    {
     "name": "stdout",
     "output_type": "stream",
     "text": [
      "recieved page 50 of 336\n",
      "recieved page 100 of 336\n",
      "recieved page 150 of 336\n",
      "recieved page 200 of 336\n",
      "recieved page 250 of 336\n",
      "recieved page 300 of 336\n"
     ]
    }
   ],
   "source": [
    "#Synchronous solution\n",
    "response_data = [] # this will hold all the data\n",
    "endpoint = \"https://api.worldbank.org/v2/country/all/indicator/NY.GDP.PCAP.PP.KD\"\n",
    "params = {\n",
    "    'format': \"json\",\n",
    "    'page':1,\n",
    "    # \"date\":\"2010:2021\"\n",
    "}\n",
    "response = requests.get(endpoint, params = params)\n",
    "[metadata, data] = response.json()\n",
    "response_data.extend(data)\n",
    "total_pages = metadata[\"pages\"]\n",
    "page = 1\n",
    "while page < total_pages:\n",
    "    page += 1\n",
    "    params[\"page\"] = page\n",
    "    response = requests.get(endpoint, params = params)\n",
    "    [metadata, data] = response.json()\n",
    "    response_data.extend(data)\n",
    "    if page%50 == 0:\n",
    "        print(f\"recieved page {page} of {total_pages}\")\n",
    "\n"
   ]
  },
  {
   "cell_type": "code",
   "execution_count": 13,
   "metadata": {},
   "outputs": [
    {
     "name": "stdout",
     "output_type": "stream",
     "text": [
      "All data recieved!....Please wait as I put it together.....\n",
      "Done!\n"
     ]
    }
   ],
   "source": [
    "#async solution\n",
    "\n",
    "response_data = [] #This will hold all the data recieved \n",
    "total_pages = 0\n",
    "\n",
    "async def fetch_data(session, page):\n",
    "    \"\"\"\n",
    "    Fetches data from the World Bank API for a specific page.\n",
    "\n",
    "    Args:\n",
    "        session (aiohttp.ClientSession): An aiohttp session for making HTTP requests.\n",
    "        page (int): The page number to fetch data from.\n",
    "\n",
    "    Returns:\n",
    "        dict: JSON response containing data from the World Bank API.\n",
    "    \"\"\"\n",
    "\n",
    "    endpoint = \"https://api.worldbank.org/v2/country/all/indicator/NY.GDP.PCAP.PP.KD\"\n",
    "    params = {\n",
    "        'format': \"json\",\n",
    "        'page': page,\n",
    "        # \"date\":\"2010:2021\"\n",
    "    }\n",
    "    async with session.get(endpoint, params=params) as response:\n",
    "        data = await response.json()\n",
    "        return data\n",
    "\n",
    "async def fetch_all():\n",
    "    \"\"\"\n",
    "    Fetches data from the World Bank API for all available pages and aggregates the results.\n",
    "\n",
    "    Returns:\n",
    "        None\n",
    "    \"\"\"\n",
    "    async with aiohttp.ClientSession() as session:\n",
    "        # Send one request to get the number of pages\n",
    "        initial_response = await fetch_data(session, 1)\n",
    "        [metadata, data] = initial_response\n",
    "        response_data.extend(data)\n",
    "        total_pages = metadata[\"pages\"]\n",
    "        # if the total pages exceeds 1, then prepare multiple requests for pages 2, 3,4 ...etc\n",
    "        tasks = [fetch_data(session, page) for page in range(2, total_pages + 1)]\n",
    "        # send all these prepared requests simultaneously and then gather the resultsas they come in\n",
    "        results = await asyncio.gather(*tasks)\n",
    "        print(\"All data recieved!....Please wait as I put it together.....\")\n",
    "        for result in results:\n",
    "            [metadata, data] = result\n",
    "            response_data.extend(data)\n",
    "            # print(f\"packaging page {metadata['page']} of {total_pages}\")\n",
    "        print('Done!')\n",
    "\n",
    "nest_asyncio.apply()\n",
    "asyncio.run(fetch_all())\n",
    "\n"
   ]
  },
  {
   "cell_type": "code",
   "execution_count": 15,
   "metadata": {},
   "outputs": [
    {
     "data": {
      "text/plain": [
       "16623    SE.XPD.EDUC.ZS\n",
       "Name: id, dtype: object"
      ]
     },
     "execution_count": 15,
     "metadata": {},
     "output_type": "execute_result"
    }
   ],
   "source": [
    "endpoint = \"http://api.worldbank.org/v2/indicator\"\n",
    "\n",
    "indicators_df = get_all_data(endpoint)\n",
    "result = indicators_df[indicators_df[\"name\"].str.startswith(\"Public Expenditure on Education\")]\n",
    "result[\"id\"]"
   ]
  },
  {
   "cell_type": "code",
   "execution_count": null,
   "metadata": {},
   "outputs": [],
   "source": []
  }
 ],
 "metadata": {
  "kernelspec": {
   "display_name": "base",
   "language": "python",
   "name": "python3"
  },
  "language_info": {
   "codemirror_mode": {
    "name": "ipython",
    "version": 3
   },
   "file_extension": ".py",
   "mimetype": "text/x-python",
   "name": "python",
   "nbconvert_exporter": "python",
   "pygments_lexer": "ipython3",
   "version": "3.11.3"
  },
  "orig_nbformat": 4
 },
 "nbformat": 4,
 "nbformat_minor": 2
}
