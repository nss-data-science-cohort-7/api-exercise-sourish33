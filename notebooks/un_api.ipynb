{
 "cells": [
  {
   "cell_type": "code",
   "execution_count": 1,
   "metadata": {},
   "outputs": [],
   "source": [
    "import requests\n",
    "import pandas as pd\n",
    "import matplotlib.pyplot as plt\n",
    "# For async requests\n",
    "import aiohttp\n",
    "import asyncio\n",
    "import nest_asyncio\n"
   ]
  },
  {
   "cell_type": "code",
   "execution_count": null,
   "metadata": {},
   "outputs": [],
   "source": [
    "endpoint = \"https://api.worldbank.org/v2/country/all/indicator/NY.GDP.PCAP.PP.KD\"\n",
    "params = {\n",
    "    'format': \"json\",\n",
    "    \"per_page\": 16758\n",
    "}\n",
    "\n",
    "response = requests.get(endpoint, params = params)\n",
    "[metadata, data] = response.json()\n",
    "gdp_percapita_df = pd.DataFrame(data)\n",
    "gdp_percapita_df[\"Country_Name\"] = gdp_percapita_df[\"country\"].apply(lambda x: x[\"value\"])\n",
    "gdp_percapita_df = gdp_percapita_df.rename(columns={\"value\": \"GDP_Per_Capita\"})\n",
    "cols_to_drop = [x for x in gdp_percapita_df.columns if x not in [\"Country_Name\", \"date\", 'GDP_Per_Capita']]\n",
    "gdp_percapita_df = gdp_percapita_df.drop(columns=cols_to_drop)"
   ]
  },
  {
   "cell_type": "code",
   "execution_count": null,
   "metadata": {},
   "outputs": [],
   "source": [
    "gdp_percapita_df.head()"
   ]
  },
  {
   "cell_type": "code",
   "execution_count": null,
   "metadata": {},
   "outputs": [],
   "source": [
    "gdp_percapita_df[\"Country_Name\"] = gdp_percapita_df[\"country\"].apply(lambda x: x[\"value\"])\n",
    "gdp_percapita_df.rename({\"value\": \"GDP_Per_Capita\"})"
   ]
  },
  {
   "cell_type": "code",
   "execution_count": null,
   "metadata": {},
   "outputs": [],
   "source": [
    "cols_to_drop = [x for x in gdp_percapita_df.columns if x not in [\"Country_Name\", \"date\", 'value']]\n",
    "gdp_percapita_df = gdp_percapita_df.drop(columns=cols_to_drop)"
   ]
  },
  {
   "cell_type": "code",
   "execution_count": null,
   "metadata": {},
   "outputs": [],
   "source": [
    "endpoint = \"https://api.worldbank.org/v2/country/all/indicator/SP.DYN.LE00.IN\"\n",
    "params = {\n",
    "    'format': \"json\",\n",
    "    \"per_page\": 16758\n",
    "}\n",
    "\n",
    "response = requests.get(endpoint, params = params)\n",
    "[metadata, data] = response.json()\n",
    "gdp_le_df = pd.DataFrame(data)\n",
    "gdp_le_df[\"Country_Name\"] = gdp_le_df[\"country\"].apply(lambda x: x[\"value\"])\n",
    "gdp_le_df = gdp_le_df.rename(columns={\"value\": \"Life_Expectancy\"})\n",
    "cols_to_drop = [x for x in gdp_le_df.columns if x not in [\"Country_Name\", \"date\", 'Life_Expectancy']]\n",
    "gdp_le_df = gdp_le_df.drop(columns=cols_to_drop)\n"
   ]
  },
  {
   "cell_type": "code",
   "execution_count": null,
   "metadata": {},
   "outputs": [],
   "source": [
    "gdp_le_df.head()"
   ]
  },
  {
   "cell_type": "code",
   "execution_count": null,
   "metadata": {},
   "outputs": [],
   "source": [
    "merged_df = pd.merge(gdp_percapita_df, gdp_le_df, on=[\"Country_Name\", \"date\"] )\n",
    "merged_df = merged_df.dropna()\n",
    "# gdp_percapita_df[\"Country_ID\"].value_counts()"
   ]
  },
  {
   "cell_type": "code",
   "execution_count": null,
   "metadata": {},
   "outputs": [],
   "source": [
    "endpoint = \"http://api.worldbank.org/v2/country\"\n",
    "params = {\n",
    "    'format': \"json\",\n",
    "    \"per_page\": 297\n",
    "}\n",
    "response = requests.get(endpoint, params = params)\n",
    "[metadata, data] = response.json()\n",
    "countries_df = pd.DataFrame(data)\n",
    "countries_df = countries_df[countries_df[\"capitalCity\"].astype(bool)]\n",
    "countries_df = countries_df[[ 'iso2Code', 'name', 'capitalCity', 'longitude', 'latitude']]\n",
    "countries_df = countries_df.rename(columns={\"name\": \"Country_Name\"})"
   ]
  },
  {
   "cell_type": "code",
   "execution_count": null,
   "metadata": {},
   "outputs": [],
   "source": [
    "triple_merged_df = pd.merge(countries_df, merged_df, on=[\"Country_Name\"], how=\"inner\")"
   ]
  },
  {
   "cell_type": "code",
   "execution_count": null,
   "metadata": {},
   "outputs": [],
   "source": [
    "triple_merged_df.head()"
   ]
  },
  {
   "cell_type": "code",
   "execution_count": null,
   "metadata": {},
   "outputs": [],
   "source": [
    "#Only US\n",
    "endpoint = \"http://api.worldbank.org/v2/country/us/indicator/SP.POP.TOTL\"\n",
    "params = {\n",
    "    'format': \"json\",\n",
    "    'per_page':63\n",
    "}\n",
    "response = requests.get(endpoint, params = params)\n",
    "[metadata, data] = response.json()\n",
    "df = pd.DataFrame(data)"
   ]
  },
  {
   "cell_type": "code",
   "execution_count": null,
   "metadata": {},
   "outputs": [],
   "source": [
    "#Only US 2021\n",
    "endpoint = \"http://api.worldbank.org/v2/country/us/indicator/SP.POP.TOTL\"\n",
    "params = {\n",
    "    'format': \"json\",\n",
    "    # 'per_page':63\n",
    "    \"date\":2021\n",
    "}\n",
    "response = requests.get(endpoint, params = params)\n",
    "[metadata, data] = response.json()\n",
    "df = pd.DataFrame(data)"
   ]
  },
  {
   "cell_type": "code",
   "execution_count": null,
   "metadata": {},
   "outputs": [],
   "source": [
    "#Only US 2000:2021\n",
    "endpoint = \"http://api.worldbank.org/v2/country/us/indicator/SP.POP.TOTL\"\n",
    "params = {\n",
    "    'format': \"json\",\n",
    "    # 'per_page':63\n",
    "    \"date\":\"2000:2021\"\n",
    "}\n",
    "response = requests.get(endpoint, params = params)\n",
    "[metadata, data] = response.json()\n",
    "df = pd.DataFrame(data)\n",
    "print(metadata[\"total\"])"
   ]
  },
  {
   "cell_type": "code",
   "execution_count": null,
   "metadata": {},
   "outputs": [],
   "source": [
    "#Only US and Canada 2000:2021\n",
    "endpoint = \"http://api.worldbank.org/v2/country/us;ca/indicator/SP.POP.TOTL\"\n",
    "params = {\n",
    "    'format': \"json\",\n",
    "    # 'per_page':63\n",
    "    \"date\":\"2000:2021\"\n",
    "}\n",
    "response = requests.get(endpoint, params = params)\n",
    "[metadata, data] = response.json()\n",
    "df = pd.DataFrame(data)\n",
    "print(metadata[\"total\"])"
   ]
  },
  {
   "cell_type": "code",
   "execution_count": 2,
   "metadata": {},
   "outputs": [
    {
     "name": "stdout",
     "output_type": "stream",
     "text": [
      "recieved page 50 of 64\n"
     ]
    }
   ],
   "source": [
    "#Synchronous solution\n",
    "response_data = []\n",
    "endpoint = \"https://api.worldbank.org/v2/country/all/indicator/NY.GDP.PCAP.PP.KD\"\n",
    "params = {\n",
    "    'format': \"json\",\n",
    "    'page':1,\n",
    "    \"date\":\"2010:2021\"\n",
    "}\n",
    "response = requests.get(endpoint, params = params)\n",
    "[metadata, data] = response.json()\n",
    "response_data.extend(data)\n",
    "total_pages = metadata[\"pages\"]\n",
    "page = 1\n",
    "while page < total_pages:\n",
    "    page += 1\n",
    "    params[\"page\"] = page\n",
    "    response = requests.get(endpoint, params = params)\n",
    "    [metadata, data] = response.json()\n",
    "    response_data.extend(data)\n",
    "    if page%50 == 0:\n",
    "        print(f\"recieved page {page} of {total_pages}\")\n",
    "\n"
   ]
  },
  {
   "cell_type": "code",
   "execution_count": 7,
   "metadata": {},
   "outputs": [
    {
     "name": "stdout",
     "output_type": "stream",
     "text": [
      "All data recieved!....Please wait as I put it together.....\n",
      "Done!\n"
     ]
    }
   ],
   "source": [
    "#async solution\n",
    "\n",
    "response_data = []\n",
    "total_pages = 0\n",
    "\n",
    "async def fetch_data(session, page):\n",
    "    endpoint = \"https://api.worldbank.org/v2/country/all/indicator/NY.GDP.PCAP.PP.KD\"\n",
    "    params = {\n",
    "        'format': \"json\",\n",
    "        'page': page,\n",
    "        \"date\":\"2010:2021\"\n",
    "    }\n",
    "    async with session.get(endpoint, params=params) as response:\n",
    "        data = await response.json()\n",
    "        return data\n",
    "\n",
    "async def fetch_all():\n",
    "    async with aiohttp.ClientSession() as session:\n",
    "        initial_response = await fetch_data(session, 1)\n",
    "        [metadata, data] = initial_response\n",
    "        response_data.extend(data)\n",
    "        total_pages = metadata[\"pages\"]\n",
    "\n",
    "        tasks = [fetch_data(session, page) for page in range(2, total_pages + 1)]\n",
    "        results = await asyncio.gather(*tasks)\n",
    "        print(\"All data recieved!....Please wait as I put it together.....\")\n",
    "        for result in results:\n",
    "            [metadata, data] = result\n",
    "            response_data.extend(data)\n",
    "            # print(f\"packaging page {metadata['page']} of {total_pages}\")\n",
    "        print('Done!')\n",
    "\n",
    "nest_asyncio.apply()\n",
    "asyncio.run(fetch_all())\n",
    "\n"
   ]
  },
  {
   "cell_type": "code",
   "execution_count": null,
   "metadata": {},
   "outputs": [],
   "source": []
  }
 ],
 "metadata": {
  "kernelspec": {
   "display_name": "base",
   "language": "python",
   "name": "python3"
  },
  "language_info": {
   "codemirror_mode": {
    "name": "ipython",
    "version": 3
   },
   "file_extension": ".py",
   "mimetype": "text/x-python",
   "name": "python",
   "nbconvert_exporter": "python",
   "pygments_lexer": "ipython3",
   "version": "3.8.18"
  },
  "orig_nbformat": 4
 },
 "nbformat": 4,
 "nbformat_minor": 2
}
