{
 "cells": [
  {
   "cell_type": "code",
   "execution_count": 1,
   "metadata": {},
   "outputs": [],
   "source": [
    "import requests\n",
    "import pandas as pd\n",
    "import matplotlib.pyplot as plt\n",
    "# For async requests\n",
    "import aiohttp\n",
    "import asyncio\n",
    "import nest_asyncio\n"
   ]
  },
  {
   "cell_type": "code",
   "execution_count": 2,
   "metadata": {},
   "outputs": [],
   "source": [
    "endpoint = \"https://api.worldbank.org/v2/country/all/indicator/NY.GDP.PCAP.PP.KD\"\n",
    "params = {\n",
    "    'format': \"json\",\n",
    "    \"per_page\": 16758\n",
    "}\n",
    "\n",
    "response = requests.get(endpoint, params = params)\n",
    "[metadata, data] = response.json()\n",
    "gdp_percapita_df = pd.DataFrame(data)\n",
    "gdp_percapita_df[\"Country_Name\"] = gdp_percapita_df[\"country\"].apply(lambda x: x[\"value\"])\n",
    "gdp_percapita_df = gdp_percapita_df.rename(columns={\"value\": \"GDP_Per_Capita\"})\n",
    "cols_to_drop = [x for x in gdp_percapita_df.columns if x not in [\"Country_Name\", \"date\", 'GDP_Per_Capita']]\n",
    "gdp_percapita_df = gdp_percapita_df.drop(columns=cols_to_drop)"
   ]
  },
  {
   "cell_type": "code",
   "execution_count": 3,
   "metadata": {},
   "outputs": [
    {
     "data": {
      "text/html": [
       "<div>\n",
       "<style scoped>\n",
       "    .dataframe tbody tr th:only-of-type {\n",
       "        vertical-align: middle;\n",
       "    }\n",
       "\n",
       "    .dataframe tbody tr th {\n",
       "        vertical-align: top;\n",
       "    }\n",
       "\n",
       "    .dataframe thead th {\n",
       "        text-align: right;\n",
       "    }\n",
       "</style>\n",
       "<table border=\"1\" class=\"dataframe\">\n",
       "  <thead>\n",
       "    <tr style=\"text-align: right;\">\n",
       "      <th></th>\n",
       "      <th>date</th>\n",
       "      <th>GDP_Per_Capita</th>\n",
       "      <th>Country_Name</th>\n",
       "    </tr>\n",
       "  </thead>\n",
       "  <tbody>\n",
       "    <tr>\n",
       "      <th>0</th>\n",
       "      <td>2022</td>\n",
       "      <td>3553.913370</td>\n",
       "      <td>Africa Eastern and Southern</td>\n",
       "    </tr>\n",
       "    <tr>\n",
       "      <th>1</th>\n",
       "      <td>2021</td>\n",
       "      <td>3519.174840</td>\n",
       "      <td>Africa Eastern and Southern</td>\n",
       "    </tr>\n",
       "    <tr>\n",
       "      <th>2</th>\n",
       "      <td>2020</td>\n",
       "      <td>3455.023119</td>\n",
       "      <td>Africa Eastern and Southern</td>\n",
       "    </tr>\n",
       "    <tr>\n",
       "      <th>3</th>\n",
       "      <td>2019</td>\n",
       "      <td>3648.220302</td>\n",
       "      <td>Africa Eastern and Southern</td>\n",
       "    </tr>\n",
       "    <tr>\n",
       "      <th>4</th>\n",
       "      <td>2018</td>\n",
       "      <td>3661.360566</td>\n",
       "      <td>Africa Eastern and Southern</td>\n",
       "    </tr>\n",
       "  </tbody>\n",
       "</table>\n",
       "</div>"
      ],
      "text/plain": [
       "   date  GDP_Per_Capita                 Country_Name\n",
       "0  2022     3553.913370  Africa Eastern and Southern\n",
       "1  2021     3519.174840  Africa Eastern and Southern\n",
       "2  2020     3455.023119  Africa Eastern and Southern\n",
       "3  2019     3648.220302  Africa Eastern and Southern\n",
       "4  2018     3661.360566  Africa Eastern and Southern"
      ]
     },
     "execution_count": 3,
     "metadata": {},
     "output_type": "execute_result"
    }
   ],
   "source": [
    "gdp_percapita_df.head()"
   ]
  },
  {
   "cell_type": "code",
   "execution_count": 61,
   "metadata": {},
   "outputs": [],
   "source": [
    "endpoint = \"https://api.worldbank.org/v2/country/all/indicator/SP.DYN.LE00.IN\"\n",
    "params = {\n",
    "    'format': \"json\",\n",
    "    \"per_page\": 16758\n",
    "}\n",
    "\n",
    "response = requests.get(endpoint, params = params)\n",
    "[metadata, data] = response.json()\n",
    "gdp_le_df = pd.DataFrame(data)\n",
    "gdp_le_df[\"Country_Name\"] = gdp_le_df[\"country\"].apply(lambda x: x[\"value\"])\n",
    "gdp_le_df = gdp_le_df.rename(columns={\"value\": \"Life_Expectancy\"})\n",
    "cols_to_drop = [x for x in gdp_le_df.columns if x not in [\"Country_Name\", \"date\", 'Life_Expectancy']]\n",
    "gdp_le_df = gdp_le_df.drop(columns=cols_to_drop)\n"
   ]
  },
  {
   "cell_type": "code",
   "execution_count": 62,
   "metadata": {},
   "outputs": [
    {
     "data": {
      "text/html": [
       "<div>\n",
       "<style scoped>\n",
       "    .dataframe tbody tr th:only-of-type {\n",
       "        vertical-align: middle;\n",
       "    }\n",
       "\n",
       "    .dataframe tbody tr th {\n",
       "        vertical-align: top;\n",
       "    }\n",
       "\n",
       "    .dataframe thead th {\n",
       "        text-align: right;\n",
       "    }\n",
       "</style>\n",
       "<table border=\"1\" class=\"dataframe\">\n",
       "  <thead>\n",
       "    <tr style=\"text-align: right;\">\n",
       "      <th></th>\n",
       "      <th>indicator</th>\n",
       "      <th>country</th>\n",
       "      <th>countryiso3code</th>\n",
       "      <th>date</th>\n",
       "      <th>value</th>\n",
       "      <th>unit</th>\n",
       "      <th>obs_status</th>\n",
       "      <th>decimal</th>\n",
       "    </tr>\n",
       "  </thead>\n",
       "  <tbody>\n",
       "    <tr>\n",
       "      <th>0</th>\n",
       "      <td>{'id': 'SP.DYN.LE00.IN', 'value': 'Life expect...</td>\n",
       "      <td>{'id': 'ZH', 'value': 'Africa Eastern and Sout...</td>\n",
       "      <td>AFE</td>\n",
       "      <td>2022</td>\n",
       "      <td>NaN</td>\n",
       "      <td></td>\n",
       "      <td></td>\n",
       "      <td>0</td>\n",
       "    </tr>\n",
       "    <tr>\n",
       "      <th>1</th>\n",
       "      <td>{'id': 'SP.DYN.LE00.IN', 'value': 'Life expect...</td>\n",
       "      <td>{'id': 'ZH', 'value': 'Africa Eastern and Sout...</td>\n",
       "      <td>AFE</td>\n",
       "      <td>2021</td>\n",
       "      <td>62.454590</td>\n",
       "      <td></td>\n",
       "      <td></td>\n",
       "      <td>0</td>\n",
       "    </tr>\n",
       "    <tr>\n",
       "      <th>2</th>\n",
       "      <td>{'id': 'SP.DYN.LE00.IN', 'value': 'Life expect...</td>\n",
       "      <td>{'id': 'ZH', 'value': 'Africa Eastern and Sout...</td>\n",
       "      <td>AFE</td>\n",
       "      <td>2020</td>\n",
       "      <td>63.313860</td>\n",
       "      <td></td>\n",
       "      <td></td>\n",
       "      <td>0</td>\n",
       "    </tr>\n",
       "    <tr>\n",
       "      <th>3</th>\n",
       "      <td>{'id': 'SP.DYN.LE00.IN', 'value': 'Life expect...</td>\n",
       "      <td>{'id': 'ZH', 'value': 'Africa Eastern and Sout...</td>\n",
       "      <td>AFE</td>\n",
       "      <td>2019</td>\n",
       "      <td>63.755678</td>\n",
       "      <td></td>\n",
       "      <td></td>\n",
       "      <td>0</td>\n",
       "    </tr>\n",
       "    <tr>\n",
       "      <th>4</th>\n",
       "      <td>{'id': 'SP.DYN.LE00.IN', 'value': 'Life expect...</td>\n",
       "      <td>{'id': 'ZH', 'value': 'Africa Eastern and Sout...</td>\n",
       "      <td>AFE</td>\n",
       "      <td>2018</td>\n",
       "      <td>63.365863</td>\n",
       "      <td></td>\n",
       "      <td></td>\n",
       "      <td>0</td>\n",
       "    </tr>\n",
       "  </tbody>\n",
       "</table>\n",
       "</div>"
      ],
      "text/plain": [
       "                                           indicator  \\\n",
       "0  {'id': 'SP.DYN.LE00.IN', 'value': 'Life expect...   \n",
       "1  {'id': 'SP.DYN.LE00.IN', 'value': 'Life expect...   \n",
       "2  {'id': 'SP.DYN.LE00.IN', 'value': 'Life expect...   \n",
       "3  {'id': 'SP.DYN.LE00.IN', 'value': 'Life expect...   \n",
       "4  {'id': 'SP.DYN.LE00.IN', 'value': 'Life expect...   \n",
       "\n",
       "                                             country countryiso3code  date  \\\n",
       "0  {'id': 'ZH', 'value': 'Africa Eastern and Sout...             AFE  2022   \n",
       "1  {'id': 'ZH', 'value': 'Africa Eastern and Sout...             AFE  2021   \n",
       "2  {'id': 'ZH', 'value': 'Africa Eastern and Sout...             AFE  2020   \n",
       "3  {'id': 'ZH', 'value': 'Africa Eastern and Sout...             AFE  2019   \n",
       "4  {'id': 'ZH', 'value': 'Africa Eastern and Sout...             AFE  2018   \n",
       "\n",
       "       value unit obs_status  decimal  \n",
       "0        NaN                        0  \n",
       "1  62.454590                        0  \n",
       "2  63.313860                        0  \n",
       "3  63.755678                        0  \n",
       "4  63.365863                        0  "
      ]
     },
     "execution_count": 62,
     "metadata": {},
     "output_type": "execute_result"
    }
   ],
   "source": [
    "gdp_le_df.head()"
   ]
  },
  {
   "cell_type": "code",
   "execution_count": 6,
   "metadata": {},
   "outputs": [],
   "source": [
    "merged_df = pd.merge(gdp_percapita_df, gdp_le_df, on=[\"Country_Name\", \"date\"] )\n",
    "merged_df = merged_df.dropna()\n",
    "# gdp_percapita_df[\"Country_ID\"].value_counts()"
   ]
  },
  {
   "cell_type": "code",
   "execution_count": 7,
   "metadata": {},
   "outputs": [],
   "source": [
    "endpoint = \"http://api.worldbank.org/v2/country\"\n",
    "params = {\n",
    "    'format': \"json\",\n",
    "    \"per_page\": 297\n",
    "}\n",
    "response = requests.get(endpoint, params = params)\n",
    "[metadata, data] = response.json()\n",
    "countries_df = pd.DataFrame(data)\n",
    "countries_df = countries_df[countries_df[\"capitalCity\"].astype(bool)]\n",
    "countries_df = countries_df[[ 'iso2Code', 'name', 'capitalCity', 'longitude', 'latitude']]\n",
    "countries_df = countries_df.rename(columns={\"name\": \"Country_Name\"})"
   ]
  },
  {
   "cell_type": "code",
   "execution_count": 8,
   "metadata": {},
   "outputs": [],
   "source": [
    "triple_merged_df = pd.merge(countries_df, merged_df, on=[\"Country_Name\"], how=\"inner\")"
   ]
  },
  {
   "cell_type": "code",
   "execution_count": 9,
   "metadata": {},
   "outputs": [
    {
     "data": {
      "text/html": [
       "<div>\n",
       "<style scoped>\n",
       "    .dataframe tbody tr th:only-of-type {\n",
       "        vertical-align: middle;\n",
       "    }\n",
       "\n",
       "    .dataframe tbody tr th {\n",
       "        vertical-align: top;\n",
       "    }\n",
       "\n",
       "    .dataframe thead th {\n",
       "        text-align: right;\n",
       "    }\n",
       "</style>\n",
       "<table border=\"1\" class=\"dataframe\">\n",
       "  <thead>\n",
       "    <tr style=\"text-align: right;\">\n",
       "      <th></th>\n",
       "      <th>iso2Code</th>\n",
       "      <th>Country_Name</th>\n",
       "      <th>capitalCity</th>\n",
       "      <th>longitude</th>\n",
       "      <th>latitude</th>\n",
       "      <th>date</th>\n",
       "      <th>GDP_Per_Capita</th>\n",
       "      <th>Life_Expectancy</th>\n",
       "    </tr>\n",
       "  </thead>\n",
       "  <tbody>\n",
       "    <tr>\n",
       "      <th>0</th>\n",
       "      <td>AW</td>\n",
       "      <td>Aruba</td>\n",
       "      <td>Oranjestad</td>\n",
       "      <td>-70.0167</td>\n",
       "      <td>12.5167</td>\n",
       "      <td>2021</td>\n",
       "      <td>38866.333486</td>\n",
       "      <td>74.626</td>\n",
       "    </tr>\n",
       "    <tr>\n",
       "      <th>1</th>\n",
       "      <td>AW</td>\n",
       "      <td>Aruba</td>\n",
       "      <td>Oranjestad</td>\n",
       "      <td>-70.0167</td>\n",
       "      <td>12.5167</td>\n",
       "      <td>2020</td>\n",
       "      <td>33155.243239</td>\n",
       "      <td>75.723</td>\n",
       "    </tr>\n",
       "    <tr>\n",
       "      <th>2</th>\n",
       "      <td>AW</td>\n",
       "      <td>Aruba</td>\n",
       "      <td>Oranjestad</td>\n",
       "      <td>-70.0167</td>\n",
       "      <td>12.5167</td>\n",
       "      <td>2019</td>\n",
       "      <td>40780.516485</td>\n",
       "      <td>76.248</td>\n",
       "    </tr>\n",
       "    <tr>\n",
       "      <th>3</th>\n",
       "      <td>AW</td>\n",
       "      <td>Aruba</td>\n",
       "      <td>Oranjestad</td>\n",
       "      <td>-70.0167</td>\n",
       "      <td>12.5167</td>\n",
       "      <td>2018</td>\n",
       "      <td>40706.749216</td>\n",
       "      <td>76.072</td>\n",
       "    </tr>\n",
       "    <tr>\n",
       "      <th>4</th>\n",
       "      <td>AW</td>\n",
       "      <td>Aruba</td>\n",
       "      <td>Oranjestad</td>\n",
       "      <td>-70.0167</td>\n",
       "      <td>12.5167</td>\n",
       "      <td>2017</td>\n",
       "      <td>38865.188195</td>\n",
       "      <td>75.903</td>\n",
       "    </tr>\n",
       "  </tbody>\n",
       "</table>\n",
       "</div>"
      ],
      "text/plain": [
       "  iso2Code Country_Name capitalCity longitude latitude  date  GDP_Per_Capita  \\\n",
       "0       AW        Aruba  Oranjestad  -70.0167  12.5167  2021    38866.333486   \n",
       "1       AW        Aruba  Oranjestad  -70.0167  12.5167  2020    33155.243239   \n",
       "2       AW        Aruba  Oranjestad  -70.0167  12.5167  2019    40780.516485   \n",
       "3       AW        Aruba  Oranjestad  -70.0167  12.5167  2018    40706.749216   \n",
       "4       AW        Aruba  Oranjestad  -70.0167  12.5167  2017    38865.188195   \n",
       "\n",
       "   Life_Expectancy  \n",
       "0           74.626  \n",
       "1           75.723  \n",
       "2           76.248  \n",
       "3           76.072  \n",
       "4           75.903  "
      ]
     },
     "execution_count": 9,
     "metadata": {},
     "output_type": "execute_result"
    }
   ],
   "source": [
    "triple_merged_df.head()"
   ]
  },
  {
   "cell_type": "code",
   "execution_count": 10,
   "metadata": {},
   "outputs": [],
   "source": [
    "#Only US\n",
    "endpoint = \"http://api.worldbank.org/v2/country/us/indicator/SP.POP.TOTL\"\n",
    "params = {\n",
    "    'format': \"json\",\n",
    "    'per_page':63\n",
    "}\n",
    "response = requests.get(endpoint, params = params)\n",
    "[metadata, data] = response.json()\n",
    "df = pd.DataFrame(data)"
   ]
  },
  {
   "cell_type": "code",
   "execution_count": 11,
   "metadata": {},
   "outputs": [],
   "source": [
    "#Only US 2021\n",
    "endpoint = \"http://api.worldbank.org/v2/country/us/indicator/SP.POP.TOTL\"\n",
    "params = {\n",
    "    'format': \"json\",\n",
    "    # 'per_page':63\n",
    "    \"date\":2021\n",
    "}\n",
    "response = requests.get(endpoint, params = params)\n",
    "[metadata, data] = response.json()\n",
    "df = pd.DataFrame(data)"
   ]
  },
  {
   "cell_type": "code",
   "execution_count": 12,
   "metadata": {},
   "outputs": [
    {
     "name": "stdout",
     "output_type": "stream",
     "text": [
      "22\n"
     ]
    }
   ],
   "source": [
    "#Only US 2000:2021\n",
    "endpoint = \"http://api.worldbank.org/v2/country/us/indicator/SP.POP.TOTL\"\n",
    "params = {\n",
    "    'format': \"json\",\n",
    "    # 'per_page':63\n",
    "    \"date\":\"2000:2021\"\n",
    "}\n",
    "response = requests.get(endpoint, params = params)\n",
    "[metadata, data] = response.json()\n",
    "df = pd.DataFrame(data)\n",
    "print(metadata[\"total\"])"
   ]
  },
  {
   "cell_type": "code",
   "execution_count": 13,
   "metadata": {},
   "outputs": [
    {
     "name": "stdout",
     "output_type": "stream",
     "text": [
      "44\n"
     ]
    }
   ],
   "source": [
    "#Only US and Canada 2000:2021\n",
    "endpoint = \"http://api.worldbank.org/v2/country/us;ca/indicator/SP.POP.TOTL\"\n",
    "params = {\n",
    "    'format': \"json\",\n",
    "    # 'per_page':63\n",
    "    \"date\":\"2000:2021\"\n",
    "}\n",
    "response = requests.get(endpoint, params = params)\n",
    "[metadata, data] = response.json()\n",
    "df = pd.DataFrame(data)\n",
    "print(metadata[\"total\"])"
   ]
  },
  {
   "cell_type": "code",
   "execution_count": 14,
   "metadata": {},
   "outputs": [
    {
     "name": "stdout",
     "output_type": "stream",
     "text": [
      "recieved page 50 of 64\n"
     ]
    }
   ],
   "source": [
    "#Synchronous solution\n",
    "response_data = []\n",
    "endpoint = \"https://api.worldbank.org/v2/country/all/indicator/NY.GDP.PCAP.PP.KD\"\n",
    "params = {\n",
    "    'format': \"json\",\n",
    "    'page':1,\n",
    "    \"date\":\"2010:2021\"\n",
    "}\n",
    "response = requests.get(endpoint, params = params)\n",
    "[metadata, data] = response.json()\n",
    "response_data.extend(data)\n",
    "total_pages = metadata[\"pages\"]\n",
    "page = 1\n",
    "while page < total_pages:\n",
    "    page += 1\n",
    "    params[\"page\"] = page\n",
    "    response = requests.get(endpoint, params = params)\n",
    "    [metadata, data] = response.json()\n",
    "    response_data.extend(data)\n",
    "    if page%50 == 0:\n",
    "        print(f\"recieved page {page} of {total_pages}\")\n",
    "\n"
   ]
  },
  {
   "cell_type": "code",
   "execution_count": 15,
   "metadata": {},
   "outputs": [
    {
     "name": "stdout",
     "output_type": "stream",
     "text": [
      "All data recieved!....Please wait as I put it together.....\n",
      "Done!\n"
     ]
    }
   ],
   "source": [
    "#async solution\n",
    "\n",
    "response_data = [] #This will hold all the data recieved \n",
    "total_pages = 0\n",
    "\n",
    "async def fetch_data(session, page):\n",
    "    endpoint = \"https://api.worldbank.org/v2/country/all/indicator/NY.GDP.PCAP.PP.KD\"\n",
    "    params = {\n",
    "        'format': \"json\",\n",
    "        'page': page,\n",
    "        \"date\":\"2010:2021\"\n",
    "    }\n",
    "    async with session.get(endpoint, params=params) as response:\n",
    "        data = await response.json()\n",
    "        return data\n",
    "\n",
    "async def fetch_all():\n",
    "    async with aiohttp.ClientSession() as session:\n",
    "        # Send one request to get the number of pages\n",
    "        initial_response = await fetch_data(session, 1)\n",
    "        [metadata, data] = initial_response\n",
    "        response_data.extend(data)\n",
    "        total_pages = metadata[\"pages\"]\n",
    "        # if the total pages exceeds 1, then prepare multiple requests for pages 2, 3,4 ...etc\n",
    "        tasks = [fetch_data(session, page) for page in range(2, total_pages + 1)]\n",
    "        # send all these prepared requests simultaneously and then gather the resultsas they come in\n",
    "        results = await asyncio.gather(*tasks)\n",
    "        print(\"All data recieved!....Please wait as I put it together.....\")\n",
    "        for result in results:\n",
    "            [metadata, data] = result\n",
    "            response_data.extend(data)\n",
    "            # print(f\"packaging page {metadata['page']} of {total_pages}\")\n",
    "        print('Done!')\n",
    "\n",
    "nest_asyncio.apply()\n",
    "asyncio.run(fetch_all())\n",
    "\n"
   ]
  },
  {
   "cell_type": "code",
   "execution_count": 65,
   "metadata": {},
   "outputs": [
    {
     "data": {
      "text/plain": [
       "16623    SE.XPD.EDUC.ZS\n",
       "Name: id, dtype: object"
      ]
     },
     "execution_count": 65,
     "metadata": {},
     "output_type": "execute_result"
    }
   ],
   "source": [
    "endpoint = \"http://api.worldbank.org/v2/indicator\"\n",
    "params = {\n",
    "    'format': \"json\",\n",
    "    \"per_page\":21020\n",
    "}\n",
    "response = requests.get(endpoint, params = params)\n",
    "[metadata, data] = response.json()\n",
    "indicators_df = pd.DataFrame(data)\n",
    "result = indicators_df[indicators_df[\"name\"].str.startswith(\"Public Expenditure on Education\")]\n",
    "result[\"id\"]"
   ]
  },
  {
   "cell_type": "code",
   "execution_count": 60,
   "metadata": {},
   "outputs": [
    {
     "data": {
      "text/html": [
       "<div>\n",
       "<style scoped>\n",
       "    .dataframe tbody tr th:only-of-type {\n",
       "        vertical-align: middle;\n",
       "    }\n",
       "\n",
       "    .dataframe tbody tr th {\n",
       "        vertical-align: top;\n",
       "    }\n",
       "\n",
       "    .dataframe thead th {\n",
       "        text-align: right;\n",
       "    }\n",
       "</style>\n",
       "<table border=\"1\" class=\"dataframe\">\n",
       "  <thead>\n",
       "    <tr style=\"text-align: right;\">\n",
       "      <th></th>\n",
       "      <th>id</th>\n",
       "      <th>name</th>\n",
       "      <th>unit</th>\n",
       "      <th>source</th>\n",
       "      <th>sourceNote</th>\n",
       "      <th>sourceOrganization</th>\n",
       "      <th>topics</th>\n",
       "    </tr>\n",
       "  </thead>\n",
       "  <tbody>\n",
       "    <tr>\n",
       "      <th>16623</th>\n",
       "      <td>SE.XPD.EDUC.ZS</td>\n",
       "      <td>Public Expenditure on Education  (% GDP)</td>\n",
       "      <td></td>\n",
       "      <td>{'id': '57', 'value': 'WDI Database Archives'}</td>\n",
       "      <td></td>\n",
       "      <td></td>\n",
       "      <td>[]</td>\n",
       "    </tr>\n",
       "  </tbody>\n",
       "</table>\n",
       "</div>"
      ],
      "text/plain": [
       "                   id                                      name unit  \\\n",
       "16623  SE.XPD.EDUC.ZS  Public Expenditure on Education  (% GDP)        \n",
       "\n",
       "                                               source sourceNote  \\\n",
       "16623  {'id': '57', 'value': 'WDI Database Archives'}              \n",
       "\n",
       "      sourceOrganization topics  \n",
       "16623                        []  "
      ]
     },
     "execution_count": 60,
     "metadata": {},
     "output_type": "execute_result"
    }
   ],
   "source": [
    "indicators_df[indicators_df[\"name\"].str.startswith(\"Public Expenditure on Education\")]"
   ]
  },
  {
   "cell_type": "code",
   "execution_count": 68,
   "metadata": {},
   "outputs": [
    {
     "ename": "NameError",
     "evalue": "name 'string' is not defined",
     "output_type": "error",
     "traceback": [
      "\u001b[0;31m---------------------------------------------------------------------------\u001b[0m",
      "\u001b[0;31mNameError\u001b[0m                                 Traceback (most recent call last)",
      "\u001b[1;32m/Users/sourishdutta/Library/CloudStorage/Box-Box/NSS/api-exercise-sourish33/notebooks/un_api.ipynb Cell 18\u001b[0m line \u001b[0;36m1\n\u001b[0;32m----> <a href='vscode-notebook-cell:/Users/sourishdutta/Library/CloudStorage/Box-Box/NSS/api-exercise-sourish33/notebooks/un_api.ipynb#X30sZmlsZQ%3D%3D?line=0'>1</a>\u001b[0m string(result[\u001b[39m\"\u001b[39m\u001b[39mid\u001b[39m\u001b[39m\"\u001b[39m])\n",
      "\u001b[0;31mNameError\u001b[0m: name 'string' is not defined"
     ]
    }
   ],
   "source": [
    "result[\"id\"]"
   ]
  },
  {
   "cell_type": "code",
   "execution_count": null,
   "metadata": {},
   "outputs": [],
   "source": []
  }
 ],
 "metadata": {
  "kernelspec": {
   "display_name": "base",
   "language": "python",
   "name": "python3"
  },
  "language_info": {
   "codemirror_mode": {
    "name": "ipython",
    "version": 3
   },
   "file_extension": ".py",
   "mimetype": "text/x-python",
   "name": "python",
   "nbconvert_exporter": "python",
   "pygments_lexer": "ipython3",
   "version": "3.11.3"
  },
  "orig_nbformat": 4
 },
 "nbformat": 4,
 "nbformat_minor": 2
}
